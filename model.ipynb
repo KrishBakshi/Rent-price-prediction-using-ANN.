{
 "cells": [
  {
   "cell_type": "code",
   "execution_count": 1,
   "id": "4e43b312",
   "metadata": {},
   "outputs": [],
   "source": [
    "import pandas as pd\n",
    "import numpy as np"
   ]
  },
  {
   "cell_type": "code",
   "execution_count": 2,
   "id": "ccd4d189",
   "metadata": {},
   "outputs": [],
   "source": [
    "df = pd.read_csv('model_data.csv')"
   ]
  },
  {
   "cell_type": "code",
   "execution_count": 3,
   "id": "7f003696",
   "metadata": {},
   "outputs": [],
   "source": [
    "X = df.drop(['rent'],axis=1)"
   ]
  },
  {
   "cell_type": "code",
   "execution_count": 4,
   "id": "fe7dafa5",
   "metadata": {},
   "outputs": [],
   "source": [
    "y = df['rent']"
   ]
  },
  {
   "cell_type": "code",
   "execution_count": 5,
   "id": "3190b0ce",
   "metadata": {},
   "outputs": [
    {
     "data": {
      "text/html": [
       "<div>\n",
       "<style scoped>\n",
       "    .dataframe tbody tr th:only-of-type {\n",
       "        vertical-align: middle;\n",
       "    }\n",
       "\n",
       "    .dataframe tbody tr th {\n",
       "        vertical-align: top;\n",
       "    }\n",
       "\n",
       "    .dataframe thead th {\n",
       "        text-align: right;\n",
       "    }\n",
       "</style>\n",
       "<table border=\"1\" class=\"dataframe\">\n",
       "  <thead>\n",
       "    <tr style=\"text-align: right;\">\n",
       "      <th></th>\n",
       "      <th>bedroom</th>\n",
       "      <th>bathrooms</th>\n",
       "      <th>area</th>\n",
       "      <th>deposit_amt</th>\n",
       "      <th>Bramhacorp F Residences, Kalyani Nagar, , Pune, Maharashtra</th>\n",
       "      <th>Clover Village, Wanowrie, , Pune, Maharashtra</th>\n",
       "      <th>Devi Sacred Heart Town, Wanwadi, , Pune, Maharashtra</th>\n",
       "      <th>Dreams Aakruti, Hadapsar, , Pune, Maharashtra</th>\n",
       "      <th>Duville Riverdale Heights, Kharadi, , Pune, Maharashtra</th>\n",
       "      <th>Forest County, Kharadi, , Pune, Maharashtra</th>\n",
       "      <th>...</th>\n",
       "      <th>Nyati Elysia, Kharadi, , Pune, Maharashtra</th>\n",
       "      <th>Paranjape Blue Ridge, Hinjewadi, , Pune, Maharashtra</th>\n",
       "      <th>Pristine Prolife, Wakad, , Pune, Maharashtra</th>\n",
       "      <th>Raheja Vistas Phase 2, NIBM, , Pune, Maharashtra</th>\n",
       "      <th>Rohan Abhilasha, Wagholi, , Pune, Maharashtra</th>\n",
       "      <th>Siddhashila Eela, Punawale, , Pune, Maharashtra</th>\n",
       "      <th>Sudhir Mandke Advantage Homes, Lullanagar, , Pune, Maharashtra</th>\n",
       "      <th>TCG The Cliff Garden, Phase-3 Hinjewadi , , Pune, Maharashtra</th>\n",
       "      <th>Xrbia City, Hinjewadi, , Pune, Maharashtra</th>\n",
       "      <th>Xrbia Hinjewadi, Hinjewadi, , Pune, Maharashtra</th>\n",
       "    </tr>\n",
       "  </thead>\n",
       "  <tbody>\n",
       "    <tr>\n",
       "      <th>0</th>\n",
       "      <td>2</td>\n",
       "      <td>2</td>\n",
       "      <td>1050.0</td>\n",
       "      <td>0</td>\n",
       "      <td>0</td>\n",
       "      <td>0</td>\n",
       "      <td>0</td>\n",
       "      <td>0</td>\n",
       "      <td>0</td>\n",
       "      <td>0</td>\n",
       "      <td>...</td>\n",
       "      <td>0</td>\n",
       "      <td>0</td>\n",
       "      <td>0</td>\n",
       "      <td>0</td>\n",
       "      <td>0</td>\n",
       "      <td>0</td>\n",
       "      <td>0</td>\n",
       "      <td>0</td>\n",
       "      <td>0</td>\n",
       "      <td>0</td>\n",
       "    </tr>\n",
       "    <tr>\n",
       "      <th>1</th>\n",
       "      <td>2</td>\n",
       "      <td>2</td>\n",
       "      <td>760.0</td>\n",
       "      <td>40000</td>\n",
       "      <td>0</td>\n",
       "      <td>0</td>\n",
       "      <td>0</td>\n",
       "      <td>0</td>\n",
       "      <td>0</td>\n",
       "      <td>0</td>\n",
       "      <td>...</td>\n",
       "      <td>0</td>\n",
       "      <td>0</td>\n",
       "      <td>0</td>\n",
       "      <td>0</td>\n",
       "      <td>0</td>\n",
       "      <td>0</td>\n",
       "      <td>0</td>\n",
       "      <td>0</td>\n",
       "      <td>0</td>\n",
       "      <td>0</td>\n",
       "    </tr>\n",
       "    <tr>\n",
       "      <th>2</th>\n",
       "      <td>1</td>\n",
       "      <td>1</td>\n",
       "      <td>628.0</td>\n",
       "      <td>40000</td>\n",
       "      <td>0</td>\n",
       "      <td>0</td>\n",
       "      <td>0</td>\n",
       "      <td>0</td>\n",
       "      <td>0</td>\n",
       "      <td>0</td>\n",
       "      <td>...</td>\n",
       "      <td>0</td>\n",
       "      <td>0</td>\n",
       "      <td>0</td>\n",
       "      <td>0</td>\n",
       "      <td>0</td>\n",
       "      <td>0</td>\n",
       "      <td>0</td>\n",
       "      <td>0</td>\n",
       "      <td>0</td>\n",
       "      <td>0</td>\n",
       "    </tr>\n",
       "    <tr>\n",
       "      <th>3</th>\n",
       "      <td>2</td>\n",
       "      <td>2</td>\n",
       "      <td>668.0</td>\n",
       "      <td>0</td>\n",
       "      <td>0</td>\n",
       "      <td>0</td>\n",
       "      <td>0</td>\n",
       "      <td>0</td>\n",
       "      <td>0</td>\n",
       "      <td>0</td>\n",
       "      <td>...</td>\n",
       "      <td>0</td>\n",
       "      <td>0</td>\n",
       "      <td>0</td>\n",
       "      <td>0</td>\n",
       "      <td>0</td>\n",
       "      <td>0</td>\n",
       "      <td>0</td>\n",
       "      <td>0</td>\n",
       "      <td>0</td>\n",
       "      <td>0</td>\n",
       "    </tr>\n",
       "    <tr>\n",
       "      <th>4</th>\n",
       "      <td>2</td>\n",
       "      <td>2</td>\n",
       "      <td>950.0</td>\n",
       "      <td>50000</td>\n",
       "      <td>0</td>\n",
       "      <td>0</td>\n",
       "      <td>0</td>\n",
       "      <td>0</td>\n",
       "      <td>0</td>\n",
       "      <td>0</td>\n",
       "      <td>...</td>\n",
       "      <td>0</td>\n",
       "      <td>0</td>\n",
       "      <td>0</td>\n",
       "      <td>0</td>\n",
       "      <td>0</td>\n",
       "      <td>0</td>\n",
       "      <td>0</td>\n",
       "      <td>0</td>\n",
       "      <td>0</td>\n",
       "      <td>0</td>\n",
       "    </tr>\n",
       "    <tr>\n",
       "      <th>...</th>\n",
       "      <td>...</td>\n",
       "      <td>...</td>\n",
       "      <td>...</td>\n",
       "      <td>...</td>\n",
       "      <td>...</td>\n",
       "      <td>...</td>\n",
       "      <td>...</td>\n",
       "      <td>...</td>\n",
       "      <td>...</td>\n",
       "      <td>...</td>\n",
       "      <td>...</td>\n",
       "      <td>...</td>\n",
       "      <td>...</td>\n",
       "      <td>...</td>\n",
       "      <td>...</td>\n",
       "      <td>...</td>\n",
       "      <td>...</td>\n",
       "      <td>...</td>\n",
       "      <td>...</td>\n",
       "      <td>...</td>\n",
       "      <td>...</td>\n",
       "    </tr>\n",
       "    <tr>\n",
       "      <th>6690</th>\n",
       "      <td>2</td>\n",
       "      <td>2</td>\n",
       "      <td>805.0</td>\n",
       "      <td>0</td>\n",
       "      <td>0</td>\n",
       "      <td>0</td>\n",
       "      <td>0</td>\n",
       "      <td>0</td>\n",
       "      <td>0</td>\n",
       "      <td>0</td>\n",
       "      <td>...</td>\n",
       "      <td>0</td>\n",
       "      <td>0</td>\n",
       "      <td>0</td>\n",
       "      <td>0</td>\n",
       "      <td>0</td>\n",
       "      <td>0</td>\n",
       "      <td>0</td>\n",
       "      <td>0</td>\n",
       "      <td>0</td>\n",
       "      <td>0</td>\n",
       "    </tr>\n",
       "    <tr>\n",
       "      <th>6691</th>\n",
       "      <td>2</td>\n",
       "      <td>1</td>\n",
       "      <td>900.0</td>\n",
       "      <td>45000</td>\n",
       "      <td>0</td>\n",
       "      <td>0</td>\n",
       "      <td>0</td>\n",
       "      <td>0</td>\n",
       "      <td>0</td>\n",
       "      <td>0</td>\n",
       "      <td>...</td>\n",
       "      <td>0</td>\n",
       "      <td>0</td>\n",
       "      <td>0</td>\n",
       "      <td>0</td>\n",
       "      <td>0</td>\n",
       "      <td>0</td>\n",
       "      <td>0</td>\n",
       "      <td>0</td>\n",
       "      <td>0</td>\n",
       "      <td>0</td>\n",
       "    </tr>\n",
       "    <tr>\n",
       "      <th>6692</th>\n",
       "      <td>2</td>\n",
       "      <td>1</td>\n",
       "      <td>750.0</td>\n",
       "      <td>30000</td>\n",
       "      <td>0</td>\n",
       "      <td>0</td>\n",
       "      <td>0</td>\n",
       "      <td>0</td>\n",
       "      <td>0</td>\n",
       "      <td>0</td>\n",
       "      <td>...</td>\n",
       "      <td>0</td>\n",
       "      <td>0</td>\n",
       "      <td>0</td>\n",
       "      <td>0</td>\n",
       "      <td>0</td>\n",
       "      <td>0</td>\n",
       "      <td>0</td>\n",
       "      <td>0</td>\n",
       "      <td>0</td>\n",
       "      <td>0</td>\n",
       "    </tr>\n",
       "    <tr>\n",
       "      <th>6693</th>\n",
       "      <td>2</td>\n",
       "      <td>2</td>\n",
       "      <td>563.0</td>\n",
       "      <td>0</td>\n",
       "      <td>0</td>\n",
       "      <td>0</td>\n",
       "      <td>0</td>\n",
       "      <td>0</td>\n",
       "      <td>0</td>\n",
       "      <td>0</td>\n",
       "      <td>...</td>\n",
       "      <td>0</td>\n",
       "      <td>0</td>\n",
       "      <td>0</td>\n",
       "      <td>0</td>\n",
       "      <td>0</td>\n",
       "      <td>0</td>\n",
       "      <td>0</td>\n",
       "      <td>0</td>\n",
       "      <td>0</td>\n",
       "      <td>0</td>\n",
       "    </tr>\n",
       "    <tr>\n",
       "      <th>6694</th>\n",
       "      <td>1</td>\n",
       "      <td>1</td>\n",
       "      <td>500.0</td>\n",
       "      <td>0</td>\n",
       "      <td>0</td>\n",
       "      <td>0</td>\n",
       "      <td>0</td>\n",
       "      <td>0</td>\n",
       "      <td>0</td>\n",
       "      <td>0</td>\n",
       "      <td>...</td>\n",
       "      <td>0</td>\n",
       "      <td>0</td>\n",
       "      <td>0</td>\n",
       "      <td>0</td>\n",
       "      <td>0</td>\n",
       "      <td>0</td>\n",
       "      <td>0</td>\n",
       "      <td>0</td>\n",
       "      <td>0</td>\n",
       "      <td>0</td>\n",
       "    </tr>\n",
       "  </tbody>\n",
       "</table>\n",
       "<p>6695 rows × 40 columns</p>\n",
       "</div>"
      ],
      "text/plain": [
       "      bedroom  bathrooms    area  deposit_amt  \\\n",
       "0           2          2  1050.0            0   \n",
       "1           2          2   760.0        40000   \n",
       "2           1          1   628.0        40000   \n",
       "3           2          2   668.0            0   \n",
       "4           2          2   950.0        50000   \n",
       "...       ...        ...     ...          ...   \n",
       "6690        2          2   805.0            0   \n",
       "6691        2          1   900.0        45000   \n",
       "6692        2          1   750.0        30000   \n",
       "6693        2          2   563.0            0   \n",
       "6694        1          1   500.0            0   \n",
       "\n",
       "      Bramhacorp F Residences, Kalyani Nagar, , Pune, Maharashtra  \\\n",
       "0                                                     0             \n",
       "1                                                     0             \n",
       "2                                                     0             \n",
       "3                                                     0             \n",
       "4                                                     0             \n",
       "...                                                 ...             \n",
       "6690                                                  0             \n",
       "6691                                                  0             \n",
       "6692                                                  0             \n",
       "6693                                                  0             \n",
       "6694                                                  0             \n",
       "\n",
       "      Clover Village, Wanowrie, , Pune, Maharashtra  \\\n",
       "0                                                 0   \n",
       "1                                                 0   \n",
       "2                                                 0   \n",
       "3                                                 0   \n",
       "4                                                 0   \n",
       "...                                             ...   \n",
       "6690                                              0   \n",
       "6691                                              0   \n",
       "6692                                              0   \n",
       "6693                                              0   \n",
       "6694                                              0   \n",
       "\n",
       "      Devi Sacred Heart Town, Wanwadi, , Pune, Maharashtra  \\\n",
       "0                                                     0      \n",
       "1                                                     0      \n",
       "2                                                     0      \n",
       "3                                                     0      \n",
       "4                                                     0      \n",
       "...                                                 ...      \n",
       "6690                                                  0      \n",
       "6691                                                  0      \n",
       "6692                                                  0      \n",
       "6693                                                  0      \n",
       "6694                                                  0      \n",
       "\n",
       "      Dreams Aakruti, Hadapsar, , Pune, Maharashtra  \\\n",
       "0                                                 0   \n",
       "1                                                 0   \n",
       "2                                                 0   \n",
       "3                                                 0   \n",
       "4                                                 0   \n",
       "...                                             ...   \n",
       "6690                                              0   \n",
       "6691                                              0   \n",
       "6692                                              0   \n",
       "6693                                              0   \n",
       "6694                                              0   \n",
       "\n",
       "      Duville Riverdale Heights, Kharadi, , Pune, Maharashtra  \\\n",
       "0                                                     0         \n",
       "1                                                     0         \n",
       "2                                                     0         \n",
       "3                                                     0         \n",
       "4                                                     0         \n",
       "...                                                 ...         \n",
       "6690                                                  0         \n",
       "6691                                                  0         \n",
       "6692                                                  0         \n",
       "6693                                                  0         \n",
       "6694                                                  0         \n",
       "\n",
       "      Forest County, Kharadi, , Pune, Maharashtra  ...  \\\n",
       "0                                               0  ...   \n",
       "1                                               0  ...   \n",
       "2                                               0  ...   \n",
       "3                                               0  ...   \n",
       "4                                               0  ...   \n",
       "...                                           ...  ...   \n",
       "6690                                            0  ...   \n",
       "6691                                            0  ...   \n",
       "6692                                            0  ...   \n",
       "6693                                            0  ...   \n",
       "6694                                            0  ...   \n",
       "\n",
       "      Nyati Elysia, Kharadi, , Pune, Maharashtra  \\\n",
       "0                                              0   \n",
       "1                                              0   \n",
       "2                                              0   \n",
       "3                                              0   \n",
       "4                                              0   \n",
       "...                                          ...   \n",
       "6690                                           0   \n",
       "6691                                           0   \n",
       "6692                                           0   \n",
       "6693                                           0   \n",
       "6694                                           0   \n",
       "\n",
       "      Paranjape Blue Ridge, Hinjewadi, , Pune, Maharashtra  \\\n",
       "0                                                     0      \n",
       "1                                                     0      \n",
       "2                                                     0      \n",
       "3                                                     0      \n",
       "4                                                     0      \n",
       "...                                                 ...      \n",
       "6690                                                  0      \n",
       "6691                                                  0      \n",
       "6692                                                  0      \n",
       "6693                                                  0      \n",
       "6694                                                  0      \n",
       "\n",
       "      Pristine Prolife, Wakad, , Pune, Maharashtra  \\\n",
       "0                                                0   \n",
       "1                                                0   \n",
       "2                                                0   \n",
       "3                                                0   \n",
       "4                                                0   \n",
       "...                                            ...   \n",
       "6690                                             0   \n",
       "6691                                             0   \n",
       "6692                                             0   \n",
       "6693                                             0   \n",
       "6694                                             0   \n",
       "\n",
       "      Raheja Vistas Phase 2, NIBM, , Pune, Maharashtra  \\\n",
       "0                                                    0   \n",
       "1                                                    0   \n",
       "2                                                    0   \n",
       "3                                                    0   \n",
       "4                                                    0   \n",
       "...                                                ...   \n",
       "6690                                                 0   \n",
       "6691                                                 0   \n",
       "6692                                                 0   \n",
       "6693                                                 0   \n",
       "6694                                                 0   \n",
       "\n",
       "      Rohan Abhilasha, Wagholi, , Pune, Maharashtra  \\\n",
       "0                                                 0   \n",
       "1                                                 0   \n",
       "2                                                 0   \n",
       "3                                                 0   \n",
       "4                                                 0   \n",
       "...                                             ...   \n",
       "6690                                              0   \n",
       "6691                                              0   \n",
       "6692                                              0   \n",
       "6693                                              0   \n",
       "6694                                              0   \n",
       "\n",
       "      Siddhashila Eela, Punawale, , Pune, Maharashtra  \\\n",
       "0                                                   0   \n",
       "1                                                   0   \n",
       "2                                                   0   \n",
       "3                                                   0   \n",
       "4                                                   0   \n",
       "...                                               ...   \n",
       "6690                                                0   \n",
       "6691                                                0   \n",
       "6692                                                0   \n",
       "6693                                                0   \n",
       "6694                                                0   \n",
       "\n",
       "      Sudhir Mandke Advantage Homes, Lullanagar, , Pune, Maharashtra  \\\n",
       "0                                                     0                \n",
       "1                                                     0                \n",
       "2                                                     0                \n",
       "3                                                     0                \n",
       "4                                                     0                \n",
       "...                                                 ...                \n",
       "6690                                                  0                \n",
       "6691                                                  0                \n",
       "6692                                                  0                \n",
       "6693                                                  0                \n",
       "6694                                                  0                \n",
       "\n",
       "      TCG The Cliff Garden, Phase-3 Hinjewadi , , Pune, Maharashtra  \\\n",
       "0                                                     0               \n",
       "1                                                     0               \n",
       "2                                                     0               \n",
       "3                                                     0               \n",
       "4                                                     0               \n",
       "...                                                 ...               \n",
       "6690                                                  0               \n",
       "6691                                                  0               \n",
       "6692                                                  0               \n",
       "6693                                                  0               \n",
       "6694                                                  0               \n",
       "\n",
       "      Xrbia City, Hinjewadi, , Pune, Maharashtra  \\\n",
       "0                                              0   \n",
       "1                                              0   \n",
       "2                                              0   \n",
       "3                                              0   \n",
       "4                                              0   \n",
       "...                                          ...   \n",
       "6690                                           0   \n",
       "6691                                           0   \n",
       "6692                                           0   \n",
       "6693                                           0   \n",
       "6694                                           0   \n",
       "\n",
       "      Xrbia Hinjewadi, Hinjewadi, , Pune, Maharashtra  \n",
       "0                                                   0  \n",
       "1                                                   0  \n",
       "2                                                   0  \n",
       "3                                                   0  \n",
       "4                                                   0  \n",
       "...                                               ...  \n",
       "6690                                                0  \n",
       "6691                                                0  \n",
       "6692                                                0  \n",
       "6693                                                0  \n",
       "6694                                                0  \n",
       "\n",
       "[6695 rows x 40 columns]"
      ]
     },
     "execution_count": 5,
     "metadata": {},
     "output_type": "execute_result"
    }
   ],
   "source": [
    "X"
   ]
  },
  {
   "cell_type": "code",
   "execution_count": 6,
   "id": "fda8771e",
   "metadata": {},
   "outputs": [],
   "source": [
    "# plt.scatter(X.bedroom,y)\n",
    "# plt.plot(X.area,y,color='red')"
   ]
  },
  {
   "cell_type": "code",
   "execution_count": 7,
   "id": "9d7bbd2b",
   "metadata": {},
   "outputs": [
    {
     "data": {
      "text/plain": [
       "(6695, 40)"
      ]
     },
     "execution_count": 7,
     "metadata": {},
     "output_type": "execute_result"
    }
   ],
   "source": [
    "X.shape"
   ]
  },
  {
   "cell_type": "code",
   "execution_count": 8,
   "id": "9a3e9a81",
   "metadata": {},
   "outputs": [],
   "source": [
    "# X = np.array(X)"
   ]
  },
  {
   "cell_type": "code",
   "execution_count": 9,
   "id": "f0a91c81",
   "metadata": {},
   "outputs": [
    {
     "data": {
      "text/plain": [
       "pandas.core.frame.DataFrame"
      ]
     },
     "execution_count": 9,
     "metadata": {},
     "output_type": "execute_result"
    }
   ],
   "source": [
    "type(X)"
   ]
  },
  {
   "cell_type": "code",
   "execution_count": 10,
   "id": "66bd3c30",
   "metadata": {},
   "outputs": [],
   "source": [
    "# X[0]"
   ]
  },
  {
   "cell_type": "code",
   "execution_count": 11,
   "id": "84e7967f",
   "metadata": {},
   "outputs": [
    {
     "data": {
      "text/plain": [
       "pandas.core.series.Series"
      ]
     },
     "execution_count": 11,
     "metadata": {},
     "output_type": "execute_result"
    }
   ],
   "source": [
    "type(y)"
   ]
  },
  {
   "cell_type": "code",
   "execution_count": 12,
   "id": "56a8e296",
   "metadata": {},
   "outputs": [],
   "source": [
    "# y = np.array(y)"
   ]
  },
  {
   "cell_type": "code",
   "execution_count": 13,
   "id": "6b0b21fe",
   "metadata": {},
   "outputs": [
    {
     "data": {
      "text/plain": [
       "pandas.core.series.Series"
      ]
     },
     "execution_count": 13,
     "metadata": {},
     "output_type": "execute_result"
    }
   ],
   "source": [
    "type(y)"
   ]
  },
  {
   "cell_type": "code",
   "execution_count": 14,
   "id": "d8d6c1d2",
   "metadata": {},
   "outputs": [],
   "source": [
    "# y[0]"
   ]
  },
  {
   "cell_type": "markdown",
   "id": "06b40779",
   "metadata": {},
   "source": [
    "## PCA"
   ]
  },
  {
   "cell_type": "code",
   "execution_count": 15,
   "id": "ee3a9206",
   "metadata": {},
   "outputs": [],
   "source": [
    "# from sklearn.decomposition import PCA"
   ]
  },
  {
   "cell_type": "code",
   "execution_count": 16,
   "id": "13d8229a",
   "metadata": {},
   "outputs": [],
   "source": [
    "# pca = PCA(0.95)"
   ]
  },
  {
   "cell_type": "code",
   "execution_count": 17,
   "id": "00c0a227",
   "metadata": {},
   "outputs": [],
   "source": [
    "# X_pca = pca.fit_transform(X)"
   ]
  },
  {
   "cell_type": "code",
   "execution_count": 18,
   "id": "1a5628e5",
   "metadata": {},
   "outputs": [],
   "source": [
    "# X_pca.shape"
   ]
  },
  {
   "cell_type": "code",
   "execution_count": 19,
   "id": "63362c28",
   "metadata": {},
   "outputs": [],
   "source": [
    "from sklearn.model_selection import train_test_split"
   ]
  },
  {
   "cell_type": "code",
   "execution_count": 20,
   "id": "b5c98564",
   "metadata": {},
   "outputs": [],
   "source": [
    "X_train, X_test, y_train, y_test = train_test_split(X, y, test_size=0.3, random_state=101)"
   ]
  },
  {
   "cell_type": "markdown",
   "id": "c8150962",
   "metadata": {},
   "source": [
    "## Scalling data"
   ]
  },
  {
   "cell_type": "code",
   "execution_count": 21,
   "id": "17b121e7",
   "metadata": {},
   "outputs": [],
   "source": [
    "from sklearn.preprocessing import MinMaxScaler"
   ]
  },
  {
   "cell_type": "code",
   "execution_count": 22,
   "id": "3920d8ae",
   "metadata": {},
   "outputs": [],
   "source": [
    "scaler = MinMaxScaler()"
   ]
  },
  {
   "cell_type": "code",
   "execution_count": 23,
   "id": "9430c36d",
   "metadata": {},
   "outputs": [],
   "source": [
    "X_train_scalled = scaler.fit_transform(X_train.astype(np.float64))"
   ]
  },
  {
   "cell_type": "code",
   "execution_count": 24,
   "id": "a7e26dfb",
   "metadata": {},
   "outputs": [],
   "source": [
    "X_test_scalled = scaler.fit_transform(X_test.astype(np.float64))"
   ]
  },
  {
   "cell_type": "code",
   "execution_count": 25,
   "id": "67d5bfe2",
   "metadata": {},
   "outputs": [
    {
     "data": {
      "text/plain": [
       "(4686, 40)"
      ]
     },
     "execution_count": 25,
     "metadata": {},
     "output_type": "execute_result"
    }
   ],
   "source": [
    "X_train_scalled.shape"
   ]
  },
  {
   "cell_type": "code",
   "execution_count": 26,
   "id": "899a4f8f",
   "metadata": {},
   "outputs": [
    {
     "data": {
      "text/plain": [
       "numpy.ndarray"
      ]
     },
     "execution_count": 26,
     "metadata": {},
     "output_type": "execute_result"
    }
   ],
   "source": [
    "type(X_train_scalled)"
   ]
  },
  {
   "cell_type": "code",
   "execution_count": 27,
   "id": "2bfa4efd",
   "metadata": {},
   "outputs": [],
   "source": [
    "y_train = y_train.astype(np.float64)"
   ]
  },
  {
   "cell_type": "code",
   "execution_count": 28,
   "id": "39d894df",
   "metadata": {},
   "outputs": [],
   "source": [
    "y_test = y_test.astype(np.float64)"
   ]
  },
  {
   "cell_type": "markdown",
   "id": "3d3bb3f5",
   "metadata": {},
   "source": [
    "## Model "
   ]
  },
  {
   "cell_type": "code",
   "execution_count": 29,
   "id": "541467a6",
   "metadata": {},
   "outputs": [],
   "source": [
    "from tensorflow.keras.models import Sequential\n",
    "from tensorflow.keras.layers import Dense, Dropout, Activation\n",
    "from tensorflow.keras.optimizers import Adam"
   ]
  },
  {
   "cell_type": "code",
   "execution_count": 65,
   "id": "4c6ce928",
   "metadata": {},
   "outputs": [],
   "source": [
    "model = Sequential()\n",
    "\n",
    "model.add(Dense(40,input_shape=(40,))) \n",
    "model.add(Activation('relu'))\n",
    "\n",
    "model.add(Dense(128)) \n",
    "model.add(Activation('relu'))\n",
    "model.add(Dropout(0.2))\n",
    "\n",
    "model.add(Dense(64)) \n",
    "model.add(Activation('relu'))\n",
    "model.add(Dropout(0.2))\n",
    "\n",
    "model.add(Dense(64)) \n",
    "model.add(Activation('relu'))\n",
    "model.add(Dropout(0.2))\n",
    "\n",
    "model.add(Dense(64)) \n",
    "model.add(Activation('relu'))\n",
    "model.add(Dropout(0.2))\n",
    "\n",
    "model.add(Dense(64)) \n",
    "model.add(Activation('relu'))\n",
    "model.add(Dropout(0.2))\n",
    "\n",
    "\n",
    "model.add(Dense(128)) \n",
    "model.add(Activation('relu'))\n",
    "model.add(Dropout(0.2))\n",
    "\n",
    "\n",
    "model.add(Dense(1))\n",
    "\n",
    "model.compile(optimizer= Adam(learning_rate=0.001),\n",
    "              loss='mean_squared_error',\n",
    "              metrics=['mean_squared_error'])\n"
   ]
  },
  {
   "cell_type": "code",
   "execution_count": 66,
   "id": "ac97e4d3",
   "metadata": {},
   "outputs": [
    {
     "name": "stdout",
     "output_type": "stream",
     "text": [
      "Model: \"sequential_2\"\n",
      "_________________________________________________________________\n",
      " Layer (type)                Output Shape              Param #   \n",
      "=================================================================\n",
      " dense_16 (Dense)            (None, 40)                1640      \n",
      "                                                                 \n",
      " activation_15 (Activation)  (None, 40)                0         \n",
      "                                                                 \n",
      " dense_17 (Dense)            (None, 128)               5248      \n",
      "                                                                 \n",
      " activation_16 (Activation)  (None, 128)               0         \n",
      "                                                                 \n",
      " dropout_12 (Dropout)        (None, 128)               0         \n",
      "                                                                 \n",
      " dense_18 (Dense)            (None, 64)                8256      \n",
      "                                                                 \n",
      " activation_17 (Activation)  (None, 64)                0         \n",
      "                                                                 \n",
      " dropout_13 (Dropout)        (None, 64)                0         \n",
      "                                                                 \n",
      " dense_19 (Dense)            (None, 64)                4160      \n",
      "                                                                 \n",
      " activation_18 (Activation)  (None, 64)                0         \n",
      "                                                                 \n",
      " dropout_14 (Dropout)        (None, 64)                0         \n",
      "                                                                 \n",
      " dense_20 (Dense)            (None, 64)                4160      \n",
      "                                                                 \n",
      " activation_19 (Activation)  (None, 64)                0         \n",
      "                                                                 \n",
      " dropout_15 (Dropout)        (None, 64)                0         \n",
      "                                                                 \n",
      " dense_21 (Dense)            (None, 64)                4160      \n",
      "                                                                 \n",
      " activation_20 (Activation)  (None, 64)                0         \n",
      "                                                                 \n",
      " dropout_16 (Dropout)        (None, 64)                0         \n",
      "                                                                 \n",
      " dense_22 (Dense)            (None, 128)               8320      \n",
      "                                                                 \n",
      " activation_21 (Activation)  (None, 128)               0         \n",
      "                                                                 \n",
      " dropout_17 (Dropout)        (None, 128)               0         \n",
      "                                                                 \n",
      " dense_23 (Dense)            (None, 1)                 129       \n",
      "                                                                 \n",
      "=================================================================\n",
      "Total params: 36073 (140.91 KB)\n",
      "Trainable params: 36073 (140.91 KB)\n",
      "Non-trainable params: 0 (0.00 Byte)\n",
      "_________________________________________________________________\n"
     ]
    }
   ],
   "source": [
    "model.summary()"
   ]
  },
  {
   "cell_type": "code",
   "execution_count": 67,
   "id": "14286e5e",
   "metadata": {},
   "outputs": [],
   "source": [
    "from tensorflow.keras.callbacks import EarlyStopping"
   ]
  },
  {
   "cell_type": "code",
   "execution_count": 68,
   "id": "142265cd",
   "metadata": {},
   "outputs": [],
   "source": [
    "early_stop = EarlyStopping(monitor='val_loss',patience=3)"
   ]
  },
  {
   "cell_type": "code",
   "execution_count": 69,
   "id": "aca1f46d",
   "metadata": {},
   "outputs": [
    {
     "name": "stdout",
     "output_type": "stream",
     "text": [
      "Epoch 1/10\n",
      "147/147 [==============================] - 3s 4ms/step - loss: 153846640.0000 - mean_squared_error: 153846640.0000\n",
      "Epoch 2/10\n",
      "147/147 [==============================] - 1s 4ms/step - loss: 35333424.0000 - mean_squared_error: 35333424.0000\n",
      "Epoch 3/10\n",
      "147/147 [==============================] - 1s 4ms/step - loss: 34422696.0000 - mean_squared_error: 34422696.0000\n",
      "Epoch 4/10\n",
      "147/147 [==============================] - 1s 4ms/step - loss: 34682288.0000 - mean_squared_error: 34682288.0000\n",
      "Epoch 5/10\n",
      "147/147 [==============================] - 1s 4ms/step - loss: 33743008.0000 - mean_squared_error: 33743008.0000\n",
      "Epoch 6/10\n",
      "147/147 [==============================] - 1s 4ms/step - loss: 33680156.0000 - mean_squared_error: 33680156.0000\n",
      "Epoch 7/10\n",
      "147/147 [==============================] - 1s 4ms/step - loss: 32533326.0000 - mean_squared_error: 32533326.0000\n",
      "Epoch 8/10\n",
      "147/147 [==============================] - 1s 4ms/step - loss: 33433462.0000 - mean_squared_error: 33433462.0000\n",
      "Epoch 9/10\n",
      "147/147 [==============================] - 1s 4ms/step - loss: 32841528.0000 - mean_squared_error: 32841528.0000\n",
      "Epoch 10/10\n",
      "147/147 [==============================] - 1s 4ms/step - loss: 32114424.0000 - mean_squared_error: 32114424.0000\n"
     ]
    },
    {
     "data": {
      "text/plain": [
       "<keras.src.callbacks.History at 0x20940740550>"
      ]
     },
     "execution_count": 69,
     "metadata": {},
     "output_type": "execute_result"
    }
   ],
   "source": [
    "model.fit(x=X_train_scalled,y= y_train,batch_size=32,epochs=10)"
   ]
  },
  {
   "cell_type": "code",
   "execution_count": 59,
   "id": "7e67f50f",
   "metadata": {},
   "outputs": [
    {
     "data": {
      "text/plain": [
       "40"
      ]
     },
     "execution_count": 59,
     "metadata": {},
     "output_type": "execute_result"
    }
   ],
   "source": [
    "X_train.shape[1]"
   ]
  },
  {
   "cell_type": "code",
   "execution_count": 60,
   "id": "1c1e186f",
   "metadata": {},
   "outputs": [],
   "source": [
    "losses = pd.DataFrame(model.history.history)"
   ]
  },
  {
   "cell_type": "code",
   "execution_count": 61,
   "id": "8aebb3cc",
   "metadata": {},
   "outputs": [
    {
     "data": {
      "text/plain": [
       "<Axes: >"
      ]
     },
     "execution_count": 61,
     "metadata": {},
     "output_type": "execute_result"
    },
    {
     "data": {
      "image/png": "[encoded data removed]",
      "text/plain": [
       "<Figure size 640x480 with 1 Axes>"
      ]
     },
     "metadata": {},
     "output_type": "display_data"
    }
   ],
   "source": [
    "losses.plot()"
   ]
  },
  {
   "cell_type": "code",
   "execution_count": 62,
   "id": "3718caf3",
   "metadata": {},
   "outputs": [
    {
     "name": "stdout",
     "output_type": "stream",
     "text": [
      "63/63 [==============================] - 0s 2ms/step\n"
     ]
    }
   ],
   "source": [
    "y_pred = model.predict(X_test_scalled)"
   ]
  },
  {
   "cell_type": "code",
   "execution_count": 63,
   "id": "38203d1b",
   "metadata": {},
   "outputs": [],
   "source": [
    "from sklearn.metrics import r2_score"
   ]
  },
  {
   "cell_type": "code",
   "execution_count": 64,
   "id": "dddf9921",
   "metadata": {},
   "outputs": [
    {
     "data": {
      "text/plain": [
       "0.6050418980149928"
      ]
     },
     "execution_count": 64,
     "metadata": {},
     "output_type": "execute_result"
    }
   ],
   "source": [
    "r2_score(y_test,y_pred)"
   ]
  },
  {
   "cell_type": "markdown",
   "id": "81302700",
   "metadata": {},
   "source": [
    "## Linear Reg"
   ]
  },
  {
   "cell_type": "code",
   "execution_count": 43,
   "id": "27b7b89b",
   "metadata": {},
   "outputs": [
    {
     "data": {
      "text/html": [
       "<style>#sk-container-id-1 {color: black;background-color: white;}#sk-container-id-1 pre{padding: 0;}#sk-container-id-1 div.sk-toggleable {background-color: white;}#sk-container-id-1 label.sk-toggleable__label {cursor: pointer;display: block;width: 100%;margin-bottom: 0;padding: 0.3em;box-sizing: border-box;text-align: center;}#sk-container-id-1 label.sk-toggleable__label-arrow:before {content: \"▸\";float: left;margin-right: 0.25em;color: #696969;}#sk-container-id-1 label.sk-toggleable__label-arrow:hover:before {color: black;}#sk-container-id-1 div.sk-estimator:hover label.sk-toggleable__label-arrow:before {color: black;}#sk-container-id-1 div.sk-toggleable__content {max-height: 0;max-width: 0;overflow: hidden;text-align: left;background-color: #f0f8ff;}#sk-container-id-1 div.sk-toggleable__content pre {margin: 0.2em;color: black;border-radius: 0.25em;background-color: #f0f8ff;}#sk-container-id-1 input.sk-toggleable__control:checked~div.sk-toggleable__content {max-height: 200px;max-width: 100%;overflow: auto;}#sk-container-id-1 input.sk-toggleable__control:checked~label.sk-toggleable__label-arrow:before {content: \"▾\";}#sk-container-id-1 div.sk-estimator input.sk-toggleable__control:checked~label.sk-toggleable__label {background-color: #d4ebff;}#sk-container-id-1 div.sk-label input.sk-toggleable__control:checked~label.sk-toggleable__label {background-color: #d4ebff;}#sk-container-id-1 input.sk-hidden--visually {border: 0;clip: rect(1px 1px 1px 1px);clip: rect(1px, 1px, 1px, 1px);height: 1px;margin: -1px;overflow: hidden;padding: 0;position: absolute;width: 1px;}#sk-container-id-1 div.sk-estimator {font-family: monospace;background-color: #f0f8ff;border: 1px dotted black;border-radius: 0.25em;box-sizing: border-box;margin-bottom: 0.5em;}#sk-container-id-1 div.sk-estimator:hover {background-color: #d4ebff;}#sk-container-id-1 div.sk-parallel-item::after {content: \"\";width: 100%;border-bottom: 1px solid gray;flex-grow: 1;}#sk-container-id-1 div.sk-label:hover label.sk-toggleable__label {background-color: #d4ebff;}#sk-container-id-1 div.sk-serial::before {content: \"\";position: absolute;border-left: 1px solid gray;box-sizing: border-box;top: 0;bottom: 0;left: 50%;z-index: 0;}#sk-container-id-1 div.sk-serial {display: flex;flex-direction: column;align-items: center;background-color: white;padding-right: 0.2em;padding-left: 0.2em;position: relative;}#sk-container-id-1 div.sk-item {position: relative;z-index: 1;}#sk-container-id-1 div.sk-parallel {display: flex;align-items: stretch;justify-content: center;background-color: white;position: relative;}#sk-container-id-1 div.sk-item::before, #sk-container-id-1 div.sk-parallel-item::before {content: \"\";position: absolute;border-left: 1px solid gray;box-sizing: border-box;top: 0;bottom: 0;left: 50%;z-index: -1;}#sk-container-id-1 div.sk-parallel-item {display: flex;flex-direction: column;z-index: 1;position: relative;background-color: white;}#sk-container-id-1 div.sk-parallel-item:first-child::after {align-self: flex-end;width: 50%;}#sk-container-id-1 div.sk-parallel-item:last-child::after {align-self: flex-start;width: 50%;}#sk-container-id-1 div.sk-parallel-item:only-child::after {width: 0;}#sk-container-id-1 div.sk-dashed-wrapped {border: 1px dashed gray;margin: 0 0.4em 0.5em 0.4em;box-sizing: border-box;padding-bottom: 0.4em;background-color: white;}#sk-container-id-1 div.sk-label label {font-family: monospace;font-weight: bold;display: inline-block;line-height: 1.2em;}#sk-container-id-1 div.sk-label-container {text-align: center;}#sk-container-id-1 div.sk-container {/* jupyter's `normalize.less` sets `[hidden] { display: none; }` but bootstrap.min.css set `[hidden] { display: none !important; }` so we also need the `!important` here to be able to override the default hidden behavior on the sphinx rendered scikit-learn.org. See: https://github.com/scikit-learn/scikit-learn/issues/21755 */display: inline-block !important;position: relative;}#sk-container-id-1 div.sk-text-repr-fallback {display: none;}</style><div id=\"sk-container-id-1\" class=\"sk-top-container\"><div class=\"sk-text-repr-fallback\"><pre>LinearRegression()</pre><b>In a Jupyter environment, please rerun this cell to show the HTML representation or trust the notebook. <br />On GitHub, the HTML representation is unable to render, please try loading this page with nbviewer.org.</b></div><div class=\"sk-container\" hidden><div class=\"sk-item\"><div class=\"sk-estimator sk-toggleable\"><input class=\"sk-toggleable__control sk-hidden--visually\" id=\"sk-estimator-id-1\" type=\"checkbox\" checked><label for=\"sk-estimator-id-1\" class=\"sk-toggleable__label sk-toggleable__label-arrow\">LinearRegression</label><div class=\"sk-toggleable__content\"><pre>LinearRegression()</pre></div></div></div></div></div>"
      ],
      "text/plain": [
       "LinearRegression()"
      ]
     },
     "execution_count": 43,
     "metadata": {},
     "output_type": "execute_result"
    }
   ],
   "source": [
    "from sklearn.linear_model import LinearRegression\n",
    "regressor = LinearRegression()  \n",
    "regressor.fit(X_train_scalled, y_train)"
   ]
  },
  {
   "cell_type": "code",
   "execution_count": 44,
   "id": "632748a2",
   "metadata": {},
   "outputs": [
    {
     "data": {
      "text/plain": [
       "0.5909182678448965"
      ]
     },
     "execution_count": 44,
     "metadata": {},
     "output_type": "execute_result"
    }
   ],
   "source": [
    "regressor.score(X_test_scalled,y_test)"
   ]
  },
  {
   "cell_type": "code",
   "execution_count": 45,
   "id": "570d3026",
   "metadata": {},
   "outputs": [],
   "source": [
    "from sklearn.linear_model import Ridge"
   ]
  },
  {
   "cell_type": "code",
   "execution_count": 46,
   "id": "3e94cb67",
   "metadata": {},
   "outputs": [
    {
     "data": {
      "text/html": [
       "<style>#sk-container-id-2 {color: black;background-color: white;}#sk-container-id-2 pre{padding: 0;}#sk-container-id-2 div.sk-toggleable {background-color: white;}#sk-container-id-2 label.sk-toggleable__label {cursor: pointer;display: block;width: 100%;margin-bottom: 0;padding: 0.3em;box-sizing: border-box;text-align: center;}#sk-container-id-2 label.sk-toggleable__label-arrow:before {content: \"▸\";float: left;margin-right: 0.25em;color: #696969;}#sk-container-id-2 label.sk-toggleable__label-arrow:hover:before {color: black;}#sk-container-id-2 div.sk-estimator:hover label.sk-toggleable__label-arrow:before {color: black;}#sk-container-id-2 div.sk-toggleable__content {max-height: 0;max-width: 0;overflow: hidden;text-align: left;background-color: #f0f8ff;}#sk-container-id-2 div.sk-toggleable__content pre {margin: 0.2em;color: black;border-radius: 0.25em;background-color: #f0f8ff;}#sk-container-id-2 input.sk-toggleable__control:checked~div.sk-toggleable__content {max-height: 200px;max-width: 100%;overflow: auto;}#sk-container-id-2 input.sk-toggleable__control:checked~label.sk-toggleable__label-arrow:before {content: \"▾\";}#sk-container-id-2 div.sk-estimator input.sk-toggleable__control:checked~label.sk-toggleable__label {background-color: #d4ebff;}#sk-container-id-2 div.sk-label input.sk-toggleable__control:checked~label.sk-toggleable__label {background-color: #d4ebff;}#sk-container-id-2 input.sk-hidden--visually {border: 0;clip: rect(1px 1px 1px 1px);clip: rect(1px, 1px, 1px, 1px);height: 1px;margin: -1px;overflow: hidden;padding: 0;position: absolute;width: 1px;}#sk-container-id-2 div.sk-estimator {font-family: monospace;background-color: #f0f8ff;border: 1px dotted black;border-radius: 0.25em;box-sizing: border-box;margin-bottom: 0.5em;}#sk-container-id-2 div.sk-estimator:hover {background-color: #d4ebff;}#sk-container-id-2 div.sk-parallel-item::after {content: \"\";width: 100%;border-bottom: 1px solid gray;flex-grow: 1;}#sk-container-id-2 div.sk-label:hover label.sk-toggleable__label {background-color: #d4ebff;}#sk-container-id-2 div.sk-serial::before {content: \"\";position: absolute;border-left: 1px solid gray;box-sizing: border-box;top: 0;bottom: 0;left: 50%;z-index: 0;}#sk-container-id-2 div.sk-serial {display: flex;flex-direction: column;align-items: center;background-color: white;padding-right: 0.2em;padding-left: 0.2em;position: relative;}#sk-container-id-2 div.sk-item {position: relative;z-index: 1;}#sk-container-id-2 div.sk-parallel {display: flex;align-items: stretch;justify-content: center;background-color: white;position: relative;}#sk-container-id-2 div.sk-item::before, #sk-container-id-2 div.sk-parallel-item::before {content: \"\";position: absolute;border-left: 1px solid gray;box-sizing: border-box;top: 0;bottom: 0;left: 50%;z-index: -1;}#sk-container-id-2 div.sk-parallel-item {display: flex;flex-direction: column;z-index: 1;position: relative;background-color: white;}#sk-container-id-2 div.sk-parallel-item:first-child::after {align-self: flex-end;width: 50%;}#sk-container-id-2 div.sk-parallel-item:last-child::after {align-self: flex-start;width: 50%;}#sk-container-id-2 div.sk-parallel-item:only-child::after {width: 0;}#sk-container-id-2 div.sk-dashed-wrapped {border: 1px dashed gray;margin: 0 0.4em 0.5em 0.4em;box-sizing: border-box;padding-bottom: 0.4em;background-color: white;}#sk-container-id-2 div.sk-label label {font-family: monospace;font-weight: bold;display: inline-block;line-height: 1.2em;}#sk-container-id-2 div.sk-label-container {text-align: center;}#sk-container-id-2 div.sk-container {/* jupyter's `normalize.less` sets `[hidden] { display: none; }` but bootstrap.min.css set `[hidden] { display: none !important; }` so we also need the `!important` here to be able to override the default hidden behavior on the sphinx rendered scikit-learn.org. See: https://github.com/scikit-learn/scikit-learn/issues/21755 */display: inline-block !important;position: relative;}#sk-container-id-2 div.sk-text-repr-fallback {display: none;}</style><div id=\"sk-container-id-2\" class=\"sk-top-container\"><div class=\"sk-text-repr-fallback\"><pre>Ridge(alpha=1)</pre><b>In a Jupyter environment, please rerun this cell to show the HTML representation or trust the notebook. <br />On GitHub, the HTML representation is unable to render, please try loading this page with nbviewer.org.</b></div><div class=\"sk-container\" hidden><div class=\"sk-item\"><div class=\"sk-estimator sk-toggleable\"><input class=\"sk-toggleable__control sk-hidden--visually\" id=\"sk-estimator-id-2\" type=\"checkbox\" checked><label for=\"sk-estimator-id-2\" class=\"sk-toggleable__label sk-toggleable__label-arrow\">Ridge</label><div class=\"sk-toggleable__content\"><pre>Ridge(alpha=1)</pre></div></div></div></div></div>"
      ],
      "text/plain": [
       "Ridge(alpha=1)"
      ]
     },
     "execution_count": 46,
     "metadata": {},
     "output_type": "execute_result"
    }
   ],
   "source": [
    "ridge = Ridge(alpha=1)\n",
    "ridge.fit(X_train_scalled, y_train)"
   ]
  },
  {
   "cell_type": "code",
   "execution_count": 47,
   "id": "d957c6b3",
   "metadata": {},
   "outputs": [
    {
     "data": {
      "text/plain": [
       "0.5925426713161632"
      ]
     },
     "execution_count": 47,
     "metadata": {},
     "output_type": "execute_result"
    }
   ],
   "source": [
    "ridge.score(X_test_scalled,y_test)"
   ]
  },
  {
   "cell_type": "code",
   "execution_count": 48,
   "id": "45ecf348",
   "metadata": {},
   "outputs": [],
   "source": [
    "y_pred = regressor.predict(X_test_scalled)"
   ]
  },
  {
   "cell_type": "code",
   "execution_count": 49,
   "id": "c06ecf07",
   "metadata": {},
   "outputs": [],
   "source": [
    "from sklearn.metrics import r2_score"
   ]
  },
  {
   "cell_type": "code",
   "execution_count": 50,
   "id": "b31cc32c",
   "metadata": {},
   "outputs": [
    {
     "data": {
      "text/plain": [
       "0.5909182678448965"
      ]
     },
     "execution_count": 50,
     "metadata": {},
     "output_type": "execute_result"
    }
   ],
   "source": [
    "r2_score(y_test,y_pred)"
   ]
  },
  {
   "cell_type": "code",
   "execution_count": null,
   "id": "707b9f9a",
   "metadata": {},
   "outputs": [],
   "source": []
  },
  {
   "cell_type": "code",
   "execution_count": null,
   "id": "fad42063",
   "metadata": {},
   "outputs": [],
   "source": []
  }
 ],
 "metadata": {
  "kernelspec": {
   "display_name": "Python 3 (ipykernel)",
   "language": "python",
   "name": "python3"
  },
  "language_info": {
   "codemirror_mode": {
    "name": "ipython",
    "version": 3
   },
   "file_extension": ".py",
   "mimetype": "text/x-python",
   "name": "python",
   "nbconvert_exporter": "python",
   "pygments_lexer": "ipython3",
   "version": "3.11.3"
  }
 },
 "nbformat": 4,
 "nbformat_minor": 5
}
